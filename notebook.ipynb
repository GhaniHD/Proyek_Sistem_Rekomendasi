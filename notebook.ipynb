{
 "cells": [
  {
   "cell_type": "markdown",
   "id": "621ae5c0",
   "metadata": {},
   "source": [
    "## Import library"
   ]
  },
  {
   "cell_type": "code",
   "execution_count": 1,
   "id": "21f53dee",
   "metadata": {},
   "outputs": [],
   "source": [
    "import pandas as pd\n",
    "import numpy as np\n",
    "from sklearn.feature_extraction.text import TfidfVectorizer\n",
    "from sklearn.metrics.pairwise import cosine_similarity\n",
    "from sklearn.model_selection import train_test_split\n",
    "from surprise import Dataset, Reader, SVD\n",
    "from surprise.model_selection import cross_validate\n",
    "import warnings\n",
    "import matplotlib.pyplot as plt\n",
    "import seaborn as sns"
   ]
  },
  {
   "cell_type": "markdown",
   "id": "fb8b84b4",
   "metadata": {},
   "source": [
    "## Data Loading"
   ]
  },
  {
   "cell_type": "code",
   "execution_count": 2,
   "id": "c7295b2c",
   "metadata": {},
   "outputs": [
    {
     "name": "stdout",
     "output_type": "stream",
     "text": [
      "Datasets loaded successfully!\n",
      "Shape of anime_df: (12294, 7)\n",
      "Shape of rating_df: (7813737, 3)\n"
     ]
    }
   ],
   "source": [
    "anime_df = pd.read_csv('dataset/anime.csv')\n",
    "rating_df = pd.read_csv('dataset/rating.csv')\n",
    "print(\"Datasets loaded successfully!\")\n",
    "print(f\"Shape of anime_df: {anime_df.shape}\")\n",
    "print(f\"Shape of rating_df: {rating_df.shape}\")"
   ]
  },
  {
   "cell_type": "markdown",
   "id": "68471691",
   "metadata": {},
   "source": [
    "## Data Understanding"
   ]
  },
  {
   "cell_type": "code",
   "execution_count": 3,
   "id": "6796ee22",
   "metadata": {},
   "outputs": [
    {
     "name": "stdout",
     "output_type": "stream",
     "text": [
      "\n",
      "--- Anime DataFrame Info ---\n",
      "<class 'pandas.core.frame.DataFrame'>\n",
      "RangeIndex: 12294 entries, 0 to 12293\n",
      "Data columns (total 7 columns):\n",
      " #   Column    Non-Null Count  Dtype  \n",
      "---  ------    --------------  -----  \n",
      " 0   anime_id  12294 non-null  int64  \n",
      " 1   name      12294 non-null  object \n",
      " 2   genre     12232 non-null  object \n",
      " 3   type      12269 non-null  object \n",
      " 4   episodes  12294 non-null  object \n",
      " 5   rating    12064 non-null  float64\n",
      " 6   members   12294 non-null  int64  \n",
      "dtypes: float64(1), int64(2), object(4)\n",
      "memory usage: 672.5+ KB\n",
      "\n",
      "First 5 rows of anime_df:\n",
      "   anime_id                              name  \\\n",
      "0     32281                    Kimi no Na wa.   \n",
      "1      5114  Fullmetal Alchemist: Brotherhood   \n",
      "2     28977                          Gintama°   \n",
      "3      9253                       Steins;Gate   \n",
      "4      9969                     Gintama&#039;   \n",
      "\n",
      "                                               genre   type episodes  rating  \\\n",
      "0               Drama, Romance, School, Supernatural  Movie        1    9.37   \n",
      "1  Action, Adventure, Drama, Fantasy, Magic, Mili...     TV       64    9.26   \n",
      "2  Action, Comedy, Historical, Parody, Samurai, S...     TV       51    9.25   \n",
      "3                                   Sci-Fi, Thriller     TV       24    9.17   \n",
      "4  Action, Comedy, Historical, Parody, Samurai, S...     TV       51    9.16   \n",
      "\n",
      "   members  \n",
      "0   200630  \n",
      "1   793665  \n",
      "2   114262  \n",
      "3   673572  \n",
      "4   151266  \n",
      "\n",
      "Missing values in anime_df:\n",
      "anime_id      0\n",
      "name          0\n",
      "genre        62\n",
      "type         25\n",
      "episodes      0\n",
      "rating      230\n",
      "members       0\n",
      "dtype: int64\n",
      "\n",
      "Number of unique genres:\n"
     ]
    }
   ],
   "source": [
    "print(\"\\n--- Anime DataFrame Info ---\")\n",
    "anime_df.info()\n",
    "print(\"\\nFirst 5 rows of anime_df:\")\n",
    "print(anime_df.head())\n",
    "print(\"\\nMissing values in anime_df:\")\n",
    "print(anime_df.isnull().sum())\n",
    "print(\"\\nNumber of unique genres:\")"
   ]
  },
  {
   "cell_type": "markdown",
   "id": "ba548b0c",
   "metadata": {},
   "source": [
    "Memisahkan genre dan menghitung genre yang unik"
   ]
  },
  {
   "cell_type": "code",
   "execution_count": 4,
   "id": "be1bffb2",
   "metadata": {},
   "outputs": [
    {
     "name": "stdout",
     "output_type": "stream",
     "text": [
      "43\n",
      "\n",
      "Top 10 most frequent anime types:\n",
      "type\n",
      "TV         3787\n",
      "OVA        3311\n",
      "Movie      2348\n",
      "Special    1676\n",
      "ONA         659\n",
      "Music       488\n",
      "Name: count, dtype: int64\n"
     ]
    }
   ],
   "source": [
    "all_genres = anime_df['genre'].dropna().str.split(', ').explode().unique()\n",
    "print(len(all_genres))\n",
    "print(\"\\nTop 10 most frequent anime types:\")\n",
    "print(anime_df['type'].value_counts().head(10))"
   ]
  },
  {
   "cell_type": "markdown",
   "id": "cb5d070c",
   "metadata": {},
   "source": [
    "Rating DataFrame Info"
   ]
  },
  {
   "cell_type": "code",
   "execution_count": 5,
   "id": "817fa002",
   "metadata": {},
   "outputs": [
    {
     "name": "stdout",
     "output_type": "stream",
     "text": [
      "<class 'pandas.core.frame.DataFrame'>\n",
      "RangeIndex: 7813737 entries, 0 to 7813736\n",
      "Data columns (total 3 columns):\n",
      " #   Column    Dtype\n",
      "---  ------    -----\n",
      " 0   user_id   int64\n",
      " 1   anime_id  int64\n",
      " 2   rating    int64\n",
      "dtypes: int64(3)\n",
      "memory usage: 178.8 MB\n",
      "\n",
      "First 5 rows of rating_df:\n",
      "   user_id  anime_id  rating\n",
      "0        1        20      -1\n",
      "1        1        24      -1\n",
      "2        1        79      -1\n",
      "3        1       226      -1\n",
      "4        1       241      -1\n",
      "\n",
      "Missing values in rating_df:\n",
      "user_id     0\n",
      "anime_id    0\n",
      "rating      0\n",
      "dtype: int64\n",
      "\n",
      "Distribution of ratings (excluding -1):\n",
      "rating\n",
      "1       16649\n",
      "2       23150\n",
      "3       41453\n",
      "4      104291\n",
      "5      282806\n",
      "6      637775\n",
      "7     1375287\n",
      "8     1646019\n",
      "9     1254096\n",
      "10     955715\n",
      "Name: count, dtype: int64\n"
     ]
    }
   ],
   "source": [
    "rating_df.info()\n",
    "print(\"\\nFirst 5 rows of rating_df:\")\n",
    "print(rating_df.head())\n",
    "print(\"\\nMissing values in rating_df:\")\n",
    "print(rating_df.isnull().sum())\n",
    "print(\"\\nDistribution of ratings (excluding -1):\")\n",
    "print(rating_df[rating_df['rating'] != -1]['rating'].value_counts().sort_index())"
   ]
  },
  {
   "cell_type": "markdown",
   "id": "e58d741c",
   "metadata": {},
   "source": [
    "Visualisasi distribusi rating"
   ]
  },
  {
   "cell_type": "code",
   "execution_count": 6,
   "id": "723a4b1f",
   "metadata": {},
   "outputs": [
    {
     "data": {
      "image/png": "[encoded data removed]",
      "text/plain": [
       "<Figure size 1000x600 with 1 Axes>"
      ]
     },
     "metadata": {},
     "output_type": "display_data"
    }
   ],
   "source": [
    "plt.figure(figsize=(10, 6))\n",
    "sns.histplot(rating_df[rating_df['rating'] != -1]['rating'], bins=10, kde=True)\n",
    "plt.title('Distribution of Anime Ratings (excluding -1)')\n",
    "plt.xlabel('Rating')\n",
    "plt.ylabel('Count')\n",
    "plt.show()"
   ]
  },
  {
   "cell_type": "markdown",
   "id": "487adfec",
   "metadata": {},
   "source": [
    "Visualisasi top N genres"
   ]
  },
  {
   "cell_type": "code",
   "execution_count": 7,
   "id": "4cb47968",
   "metadata": {},
   "outputs": [
    {
     "data": {
      "image/png": "[encoded data removed]",
      "text/plain": [
       "<Figure size 1200x700 with 1 Axes>"
      ]
     },
     "metadata": {},
     "output_type": "display_data"
    }
   ],
   "source": [
    "genre_counts = anime_df['genre'].dropna().str.split(', ').explode().value_counts()\n",
    "plt.figure(figsize=(12, 7))\n",
    "sns.barplot(x=genre_counts.head(15).index, y=genre_counts.head(15).values)\n",
    "plt.title('Top 15 Most Frequent Anime Genres')\n",
    "plt.xlabel('Genre')\n",
    "plt.ylabel('Count')\n",
    "plt.xticks(rotation=45, ha='right')\n",
    "plt.tight_layout()\n",
    "plt.show()"
   ]
  },
  {
   "cell_type": "markdown",
   "id": "8a000096",
   "metadata": {},
   "source": [
    "Tinjauan Dataframe Gabungan (setelah inspeksi awal)"
   ]
  },
  {
   "cell_type": "code",
   "execution_count": 8,
   "id": "533c4e19",
   "metadata": {},
   "outputs": [
    {
     "name": "stdout",
     "output_type": "stream",
     "text": [
      "Shape of initial_merged_df: (7813727, 9)\n",
      "Initial Merged DataFrame Head:\n",
      "   user_id  anime_id  rating_user                       name  \\\n",
      "0        1        20           -1                     Naruto   \n",
      "1        1        24           -1              School Rumble   \n",
      "2        1        79           -1                   Shuffle!   \n",
      "3        1       226           -1                 Elfen Lied   \n",
      "4        1       241           -1  Girls Bravo: First Season   \n",
      "\n",
      "                                               genre type episodes  \\\n",
      "0  Action, Comedy, Martial Arts, Shounen, Super P...   TV      220   \n",
      "1                   Comedy, Romance, School, Shounen   TV       26   \n",
      "2  Comedy, Drama, Ecchi, Fantasy, Harem, Magic, R...   TV       24   \n",
      "3  Action, Drama, Horror, Psychological, Romance,...   TV       13   \n",
      "4     Comedy, Ecchi, Fantasy, Harem, Romance, School   TV       11   \n",
      "\n",
      "   rating_anime  members  \n",
      "0          7.81   683297  \n",
      "1          8.06   178553  \n",
      "2          7.31   158772  \n",
      "3          7.85   623511  \n",
      "4          6.69    84395  \n"
     ]
    }
   ],
   "source": [
    "# Merge datasets early to check for potential issues with merging\n",
    "initial_merged_df = pd.merge(rating_df, anime_df, on='anime_id', suffixes=('_user', '_anime'))\n",
    "print(f\"Shape of initial_merged_df: {initial_merged_df.shape}\")\n",
    "print(\"Initial Merged DataFrame Head:\")\n",
    "print(initial_merged_df.head())"
   ]
  },
  {
   "cell_type": "markdown",
   "id": "f71c1951",
   "metadata": {},
   "source": [
    "## Data Preparation"
   ]
  },
  {
   "cell_type": "markdown",
   "id": "1cdaa861",
   "metadata": {},
   "source": [
    "Pra-pemrosesan DataFrame Anime"
   ]
  },
  {
   "cell_type": "code",
   "execution_count": 9,
   "id": "48362d8c",
   "metadata": {},
   "outputs": [
    {
     "name": "stdout",
     "output_type": "stream",
     "text": [
      "Menangani nilai yang hilang pada anime_df...\n"
     ]
    }
   ],
   "source": [
    "print(\"Menangani nilai yang hilang pada anime_df...\")"
   ]
  },
  {
   "cell_type": "markdown",
   "id": "c4c89796",
   "metadata": {},
   "source": [
    "Mengisi nilai 'genre' yang kosong dengan 'Tidak Diketahui'"
   ]
  },
  {
   "cell_type": "code",
   "execution_count": 10,
   "id": "7c421a2c",
   "metadata": {},
   "outputs": [],
   "source": [
    "anime_df['genre'] = anime_df['genre'].fillna('Unknown')"
   ]
  },
  {
   "cell_type": "markdown",
   "id": "e29153a1",
   "metadata": {},
   "source": [
    "Mengisi nilai 'rating' (penilaian keseluruhan anime) yang kosong dengan rata-rata"
   ]
  },
  {
   "cell_type": "code",
   "execution_count": 11,
   "id": "d88307e7",
   "metadata": {},
   "outputs": [
    {
     "name": "stdout",
     "output_type": "stream",
     "text": [
      "Jumlah nilai yang hilang dalam anime_df setelah pengisian:\n",
      "anime_id     0\n",
      "name         0\n",
      "genre        0\n",
      "type        25\n",
      "episodes     0\n",
      "rating       0\n",
      "members      0\n",
      "dtype: int64\n"
     ]
    }
   ],
   "source": [
    "anime_df['rating'] = anime_df['rating'].fillna(anime_df['rating'].mean())\n",
    "print(\"Jumlah nilai yang hilang dalam anime_df setelah pengisian:\")\n",
    "print(anime_df.isnull().sum())"
   ]
  },
  {
   "cell_type": "markdown",
   "id": "5706cff4",
   "metadata": {},
   "source": [
    "Menghapus data duplikat berdasarkan 'anime_id' untuk memastikan setiap anime unik"
   ]
  },
  {
   "cell_type": "code",
   "execution_count": 12,
   "id": "387fe447",
   "metadata": {},
   "outputs": [
    {
     "name": "stdout",
     "output_type": "stream",
     "text": [
      "Dropped 0 duplicate anime entries.\n",
      "Shape of anime_df after dropping duplicates: (12294, 7)\n"
     ]
    }
   ],
   "source": [
    "initial_anime_rows = anime_df.shape[0]\n",
    "anime_df.drop_duplicates(subset='anime_id', inplace=True)\n",
    "print(f\"Dropped {initial_anime_rows - anime_df.shape[0]} duplicate anime entries.\")\n",
    "print(f\"Shape of anime_df after dropping duplicates: {anime_df.shape}\")"
   ]
  },
  {
   "cell_type": "markdown",
   "id": "112a7ce5",
   "metadata": {},
   "source": [
    "Pra-pemrosesan DataFrame Rating\n",
    "\n",
    "Menghapus rating -1: ini menunjukkan anime sudah ditonton tapi belum diberi nilai,\n",
    "\n",
    "yang tidak berguna untuk prediksi rating eksplisit dalam collaborative filtering."
   ]
  },
  {
   "cell_type": "code",
   "execution_count": 13,
   "id": "fae6c9e5",
   "metadata": {},
   "outputs": [
    {
     "name": "stdout",
     "output_type": "stream",
     "text": [
      "Removed 1476496 ratings of -1.\n",
      "Shape of rating_df after removing -1 ratings: (6337241, 3)\n"
     ]
    }
   ],
   "source": [
    "initial_rating_rows = rating_df.shape[0]\n",
    "rating_df = rating_df[rating_df['rating'] != -1]\n",
    "print(f\"Removed {initial_rating_rows - rating_df.shape[0]} ratings of -1.\")\n",
    "print(f\"Shape of rating_df after removing -1 ratings: {rating_df.shape}\")"
   ]
  },
  {
   "cell_type": "markdown",
   "id": "c13ebab3",
   "metadata": {},
   "source": [
    "Menggabungkan dataset"
   ]
  },
  {
   "cell_type": "code",
   "execution_count": 14,
   "id": "1b25b7f3",
   "metadata": {},
   "outputs": [
    {
     "name": "stdout",
     "output_type": "stream",
     "text": [
      "\n",
      "Merging anime and rating dataframes...\n",
      "Shape of merged_df after merging: (6337239, 9)\n",
      "\n",
      "Merged DataFrame Head (after preprocessing):\n",
      "   user_id  anime_id  rating_user                    name  \\\n",
      "0        1      8074           10  Highschool of the Dead   \n",
      "1        1     11617           10         High School DxD   \n",
      "2        1     11757           10        Sword Art Online   \n",
      "3        1     15451           10     High School DxD New   \n",
      "4        2     11771           10        Kuroko no Basket   \n",
      "\n",
      "                                               genre type episodes  \\\n",
      "0                Action, Ecchi, Horror, Supernatural   TV       12   \n",
      "1      Comedy, Demons, Ecchi, Harem, Romance, School   TV       12   \n",
      "2          Action, Adventure, Fantasy, Game, Romance   TV       25   \n",
      "3  Action, Comedy, Demons, Ecchi, Harem, Romance,...   TV       12   \n",
      "4                    Comedy, School, Shounen, Sports   TV       25   \n",
      "\n",
      "   rating_anime  members  \n",
      "0          7.46   535892  \n",
      "1          7.70   398660  \n",
      "2          7.83   893100  \n",
      "3          7.87   266657  \n",
      "4          8.46   338315  \n"
     ]
    }
   ],
   "source": [
    "print(\"\\nMerging anime and rating dataframes...\")\n",
    "merged_df = pd.merge(rating_df, anime_df, on='anime_id', suffixes=('_user', '_anime'))\n",
    "print(f\"Shape of merged_df after merging: {merged_df.shape}\")\n",
    "print(\"\\nMerged DataFrame Head (after preprocessing):\")\n",
    "print(merged_df.head())"
   ]
  },
  {
   "cell_type": "markdown",
   "id": "4ce74f6b",
   "metadata": {},
   "source": [
    "Membersihkan kolom genre untuk TF-IDF (menghapus koma dan spasi berlebih)"
   ]
  },
  {
   "cell_type": "code",
   "execution_count": 15,
   "id": "5add9266",
   "metadata": {},
   "outputs": [
    {
     "name": "stdout",
     "output_type": "stream",
     "text": [
      "\n",
      "'genre_cleaned' column created for Content-based Filtering.\n"
     ]
    }
   ],
   "source": [
    "anime_df['genre_cleaned'] = anime_df['genre'].apply(lambda x: ' '.join(x.replace(',', ' ').split()))\n",
    "print(\"\\n'genre_cleaned' column created for Content-based Filtering.\")"
   ]
  },
  {
   "cell_type": "markdown",
   "id": "6073358f",
   "metadata": {},
   "source": [
    "## Modeling"
   ]
  },
  {
   "cell_type": "markdown",
   "id": "d245f94f",
   "metadata": {},
   "source": [
    "Inisialisasi TF-IDF Vectorizer\n",
    "\n",
    "stop_words='english' menghapus kata-kata umum bahasa Inggris yang kurang bermakna"
   ]
  },
  {
   "cell_type": "code",
   "execution_count": 16,
   "id": "1137a43c",
   "metadata": {},
   "outputs": [],
   "source": [
    "tfidf = TfidfVectorizer(stop_words='english')"
   ]
  },
  {
   "cell_type": "markdown",
   "id": "4e38ad3a",
   "metadata": {},
   "source": [
    "Melatih dan mentransformasikan kolom 'genre_cleaned' untuk membuat matriks TF-IDF"
   ]
  },
  {
   "cell_type": "code",
   "execution_count": 17,
   "id": "16e27920",
   "metadata": {},
   "outputs": [],
   "source": [
    "tfidf_matrix = tfidf.fit_transform(anime_df['genre_cleaned'])"
   ]
  },
  {
   "cell_type": "code",
   "execution_count": 18,
   "id": "ef86897f",
   "metadata": {},
   "outputs": [
    {
     "name": "stdout",
     "output_type": "stream",
     "text": [
      "Ukuran matriks TF-IDF: (12294, 47)\n"
     ]
    }
   ],
   "source": [
    "print(f\"Ukuran matriks TF-IDF: {tfidf_matrix.shape}\")"
   ]
  },
  {
   "cell_type": "markdown",
   "id": "f8fe2657",
   "metadata": {},
   "source": [
    "Menghitung matriks kemiripan kosinus\n",
    "\n",
    "Matriks ini menunjukkan kemiripan antar anime berdasarkan vektor genre mereka"
   ]
  },
  {
   "cell_type": "code",
   "execution_count": 19,
   "id": "f5a66f97",
   "metadata": {},
   "outputs": [
    {
     "name": "stdout",
     "output_type": "stream",
     "text": [
      "Ukuran matriks Kemiripan Kosinus: (12294, 12294)\n"
     ]
    }
   ],
   "source": [
    "cosine_sim = cosine_similarity(tfidf_matrix, tfidf_matrix)\n",
    "print(f\"Ukuran matriks Kemiripan Kosinus: {cosine_sim.shape}\")"
   ]
  },
  {
   "cell_type": "markdown",
   "id": "407f3f22",
   "metadata": {},
   "source": [
    "Membuat Series yang memetakan nama anime ke indeksnya di dataframe\n",
    "\n",
    "Ini memudahkan pencarian indeks anime berdasarkan namanya"
   ]
  },
  {
   "cell_type": "code",
   "execution_count": 20,
   "id": "1fdfe47b",
   "metadata": {},
   "outputs": [],
   "source": [
    "indices = pd.Series(anime_df.index, index=anime_df['name']).drop_duplicates()\n"
   ]
  },
  {
   "cell_type": "markdown",
   "id": "f8163b2f",
   "metadata": {},
   "source": [
    "Fungsi untuk mendapatkan rekomendasi berbasis konten \n",
    "\n",
    "Mendapatkan indeks anime yang sesuai dengan judul\n",
    "\n",
    "Mendapatkan skor kemiripan pasangan semua anime dengan anime tersebut\n",
    "\n",
    "Mengurutkan anime berdasarkan skor kemiripan\n",
    "\n",
    "Mendapatkan skor untuk top N anime yang paling mirip (tidak termasuk dirinya sendiri)\n"
   ]
  },
  {
   "cell_type": "code",
   "execution_count": 21,
   "id": "a2005d0f",
   "metadata": {},
   "outputs": [],
   "source": [
    "def get_content_recommendations(title, cosine_sim_matrix=cosine_sim, df=anime_df, indices_series=indices, top_n=10):\n",
    "    \"\"\"\n",
    "    Generates content-based recommendations for a given anime title.\n",
    "\n",
    "    Args:\n",
    "        title (str): The name of the anime to get recommendations for.\n",
    "        cosine_sim_matrix (np.array): The cosine similarity matrix of anime.\n",
    "        df (pd.DataFrame): The anime dataframe.\n",
    "        indices_series (pd.Series): A Series mapping anime names to their indices.\n",
    "        top_n (int): The number of top recommendations to return.\n",
    "\n",
    "    Returns:\n",
    "        pd.DataFrame: A DataFrame containing the recommended anime details and similarity scores.\n",
    "    \"\"\"\n",
    "    if title not in indices_series:\n",
    "        print(f\"Anime '{title}' not found in the database. Please check the spelling.\")\n",
    "        return pd.DataFrame() \n",
    "\n",
    "\n",
    "    idx = indices_series[title]\n",
    "    \n",
    "    sim_scores = list(enumerate(cosine_sim_matrix[idx]))\n",
    "\n",
    "    sim_scores = sorted(sim_scores, key=lambda x: x[1], reverse=True)\n",
    "\n",
    "    sim_scores = sim_scores[1:top_n+1] \n",
    "\n",
    "    anime_indices = [i[0] for i in sim_scores]\n",
    "\n",
    "    recommendations = df.iloc[anime_indices][['name', 'genre', 'type', 'rating']].copy()\n",
    "    recommendations['similarity_score'] = [i[1] for i in sim_scores]\n",
    "\n",
    "    return recommendations"
   ]
  },
  {
   "cell_type": "markdown",
   "id": "727c2e17",
   "metadata": {},
   "source": [
    "Contoh Rekomendasi Berbasis Konten"
   ]
  },
  {
   "cell_type": "code",
   "execution_count": 22,
   "id": "850dd2e1",
   "metadata": {},
   "outputs": [
    {
     "name": "stdout",
     "output_type": "stream",
     "text": [
      "\n",
      "Example Content-based Recommendations for 'Death Note':\n",
      "                                          name  \\\n",
      "778                         Death Note Rewrite   \n",
      "981                            Mousou Dairinin   \n",
      "144              Higurashi no Naku Koro ni Kai   \n",
      "1383             Higurashi no Naku Koro ni Rei   \n",
      "445                           Mirai Nikki (TV)   \n",
      "4164         Mirai Nikki (TV): Ura Mirai Nikki   \n",
      "334                  Higurashi no Naku Koro ni   \n",
      "38                                     Monster   \n",
      "5382                                 AD Police   \n",
      "2074  Higurashi no Naku Koro ni Kaku: Outbreak   \n",
      "\n",
      "                                                  genre     type  rating  \\\n",
      "778   Mystery, Police, Psychological, Supernatural, ...  Special    7.84   \n",
      "981   Drama, Mystery, Police, Psychological, Superna...       TV    7.74   \n",
      "144      Mystery, Psychological, Supernatural, Thriller       TV    8.41   \n",
      "1383  Comedy, Mystery, Psychological, Supernatural, ...      OVA    7.56   \n",
      "445   Action, Mystery, Psychological, Shounen, Super...       TV    8.07   \n",
      "4164  Action, Comedy, Mystery, Psychological, Shoune...  Special    6.79   \n",
      "334   Horror, Mystery, Psychological, Supernatural, ...       TV    8.17   \n",
      "38    Drama, Horror, Mystery, Police, Psychological,...       TV    8.72   \n",
      "5382  Adventure, Dementia, Mecha, Mystery, Police, P...      OVA    6.47   \n",
      "2074           Horror, Mystery, Psychological, Thriller      OVA    7.36   \n",
      "\n",
      "      similarity_score  \n",
      "778           1.000000  \n",
      "981           0.967703  \n",
      "144           0.879514  \n",
      "1383          0.861056  \n",
      "445           0.815429  \n",
      "4164          0.800654  \n",
      "334           0.794414  \n",
      "38            0.790869  \n",
      "5382          0.755023  \n",
      "2074          0.728881  \n"
     ]
    }
   ],
   "source": [
    "print(\"\\nExample Content-based Recommendations for 'Death Note':\")\n",
    "content_recs = get_content_recommendations('Death Note')\n",
    "if not content_recs.empty:\n",
    "    print(content_recs)\n"
   ]
  },
  {
   "cell_type": "code",
   "execution_count": 23,
   "id": "7da9d38a",
   "metadata": {},
   "outputs": [
    {
     "name": "stdout",
     "output_type": "stream",
     "text": [
      "\n",
      "Example Content-based Recommendations for 'Naruto':\n",
      "                                                   name  \\\n",
      "615                                  Naruto: Shippuuden   \n",
      "841                                              Naruto   \n",
      "1103  Boruto: Naruto the Movie - Naruto ga Hokage ni...   \n",
      "1343                                        Naruto x UT   \n",
      "1472        Naruto: Shippuuden Movie 4 - The Lost Tower   \n",
      "1573  Naruto: Shippuuden Movie 3 - Hi no Ishi wo Tsu...   \n",
      "2458               Naruto Shippuuden: Sunny Side Battle   \n",
      "2997  Naruto Soyokazeden Movie: Naruto to Mashin to ...   \n",
      "7628                            Kyutai Panic Adventure!   \n",
      "784          Naruto: Shippuuden Movie 6 - Road to Ninja   \n",
      "\n",
      "                                                  genre     type  rating  \\\n",
      "615   Action, Comedy, Martial Arts, Shounen, Super P...       TV    7.94   \n",
      "841   Action, Comedy, Martial Arts, Shounen, Super P...       TV    7.81   \n",
      "1103  Action, Comedy, Martial Arts, Shounen, Super P...  Special    7.68   \n",
      "1343  Action, Comedy, Martial Arts, Shounen, Super P...      OVA    7.58   \n",
      "1472  Action, Comedy, Martial Arts, Shounen, Super P...    Movie    7.53   \n",
      "1573  Action, Comedy, Martial Arts, Shounen, Super P...    Movie    7.50   \n",
      "2458  Action, Comedy, Martial Arts, Shounen, Super P...  Special    7.26   \n",
      "2997  Action, Comedy, Martial Arts, Shounen, Super P...    Movie    7.11   \n",
      "7628         Action, Martial Arts, Shounen, Super Power  Special    5.21   \n",
      "784   Action, Adventure, Martial Arts, Shounen, Supe...    Movie    7.84   \n",
      "\n",
      "      similarity_score  \n",
      "615           1.000000  \n",
      "841           1.000000  \n",
      "1103          1.000000  \n",
      "1343          1.000000  \n",
      "1472          1.000000  \n",
      "1573          1.000000  \n",
      "2458          1.000000  \n",
      "2997          1.000000  \n",
      "7628          0.980692  \n",
      "784           0.947185  \n"
     ]
    }
   ],
   "source": [
    "print(\"\\nExample Content-based Recommendations for 'Naruto':\")\n",
    "content_recs_naruto = get_content_recommendations('Naruto')\n",
    "if not content_recs_naruto.empty:\n",
    "    print(content_recs_naruto)"
   ]
  },
  {
   "cell_type": "markdown",
   "id": "c1cf3e31",
   "metadata": {},
   "source": [
    "## Collaborative Filtering"
   ]
  },
  {
   "cell_type": "markdown",
   "id": "1e3a2792",
   "metadata": {},
   "source": [
    "Pendekatan ini merekomendasikan anime berdasarkan perilaku pengguna lain yang memiliki preferensi serupa. Kita akan menggunakan library Surprise dan algoritma Singular Value Decomposition (SVD) untuk memprediksi rating yang belum diberikan."
   ]
  },
  {
   "cell_type": "markdown",
   "id": "bc1367b0",
   "metadata": {},
   "source": [
    " Pemodelan (lanjutan) - Collaborative Filtering "
   ]
  },
  {
   "cell_type": "markdown",
   "id": "51479b9f",
   "metadata": {},
   "source": [
    "Persiapkan data untuk library Surprise\n",
    "\n",
    "Objek Reader mendefinisikan skala rating (1 sampai 10 di dataset ini)\n"
   ]
  },
  {
   "cell_type": "code",
   "execution_count": 24,
   "id": "3027a65a",
   "metadata": {},
   "outputs": [],
   "source": [
    "reader = Reader(rating_scale=(1, 10))"
   ]
  },
  {
   "cell_type": "markdown",
   "id": "5262c1df",
   "metadata": {},
   "source": [
    "Muat data ke format Dataset Surprise dari merged_df\n",
    "\n",
    "Kita hanya butuh user_id, anime_id, dan rating untuk collaborative filtering"
   ]
  },
  {
   "cell_type": "code",
   "execution_count": 25,
   "id": "88379085",
   "metadata": {},
   "outputs": [],
   "source": [
    "data = Dataset.load_from_df(merged_df[['user_id', 'anime_id', 'rating_user']], reader)"
   ]
  },
  {
   "cell_type": "markdown",
   "id": "3604e2a4",
   "metadata": {},
   "source": [
    "Bangun trainset dari seluruh data untuk melatih model akhir Untuk evaluasi biasanya kita pisah train/test, tapi untuk prediksi ke semua userkita bisa latih dengan seluruh data.\n",
    "\n",
    "Atau untuk evaluasi cross-validation, kita bisa gunakan `cross_validate` nanti."
   ]
  },
  {
   "cell_type": "code",
   "execution_count": null,
   "id": "fffe73ed",
   "metadata": {},
   "outputs": [],
   "source": [
    "trainset = data.build_full_trainset()"
   ]
  },
  {
   "cell_type": "markdown",
   "id": "b2839327",
   "metadata": {},
   "source": [
    "Gunakan algoritma SVD (Singular Value Decomposition)\n",
    "\n",
    "SVD adalah teknik faktorisasi matriks yang sering dipakai di collaborative filtering"
   ]
  },
  {
   "cell_type": "code",
   "execution_count": 27,
   "id": "a21461e1",
   "metadata": {},
   "outputs": [],
   "source": [
    "algo = SVD(random_state=42)"
   ]
  },
  {
   "cell_type": "markdown",
   "id": "3a0eb430",
   "metadata": {},
   "source": [
    "Latih model menggunakan seluruh trainset"
   ]
  },
  {
   "cell_type": "code",
   "execution_count": 28,
   "id": "a1644af6",
   "metadata": {},
   "outputs": [
    {
     "name": "stdout",
     "output_type": "stream",
     "text": [
      "Melatih model SVD untuk Collaborative Filtering...\n",
      "Model SVD berhasil dilatih!\n"
     ]
    }
   ],
   "source": [
    "print(\"Melatih model SVD untuk Collaborative Filtering...\")\n",
    "algo.fit(trainset)\n",
    "print(\"Model SVD berhasil dilatih!\")"
   ]
  },
  {
   "cell_type": "markdown",
   "id": "500cc481",
   "metadata": {},
   "source": [
    "Fungsi get_collaborative_recommendations ini digunakan untuk menghasilkan rekomendasi anime bagi seorang pengguna tertentu dengan menggunakan metode collaborative filtering berbasis model SVD yang sudah dilatih; fungsi ini pertama-tama mengambil semua anime yang tersedia dan menghapus anime yang sudah pernah dirating oleh pengguna tersebut agar hanya merekomendasikan anime baru, kemudian memprediksi rating estimasi untuk setiap anime yang belum dirating oleh pengguna tersebut menggunakan model SVD, mengurutkan anime berdasarkan prediksi rating tertinggi, dan mengembalikan DataFrame yang berisi detail anime teratas beserta prediksi rating khusus untuk pengguna tersebut."
   ]
  },
  {
   "cell_type": "code",
   "execution_count": 29,
   "id": "ef255bf4",
   "metadata": {},
   "outputs": [],
   "source": [
    "def get_collaborative_recommendations(user_id, num_recommendations=10, df_anime=anime_df, df_merged=merged_df, svd_model=algo):\n",
    "    \"\"\"\n",
    "    Menghasilkan rekomendasi collaborative filtering untuk user tertentu.\n",
    "\n",
    "    Argumen:\n",
    "        user_id (int): ID user yang ingin direkomendasikan.\n",
    "        num_recommendations (int): Jumlah rekomendasi teratas yang dikembalikan.\n",
    "        df_anime (pd.DataFrame): Dataframe anime.\n",
    "        df_merged (pd.DataFrame): Dataframe gabungan rating dan info anime.\n",
    "        svd_model: Model SVD yang sudah dilatih.\n",
    "\n",
    "    Mengembalikan:\n",
    "        pd.DataFrame: DataFrame berisi detail anime rekomendasi dan prediksi rating.\n",
    "    \"\"\"\n",
    "\n",
    "    all_anime_ids = df_anime['anime_id'].unique()\n",
    "\n",
    "    rated_anime_ids = df_merged[df_merged['user_id'] == user_id]['anime_id'].unique()\n",
    "\n",
    "    anime_to_predict = [anime_id for anime_id in all_anime_ids if anime_id not in rated_anime_ids]\n",
    "\n",
    "    predictions = []\n",
    "    for anime_id in anime_to_predict:\n",
    "        pred = svd_model.predict(uid=user_id, iid=anime_id)\n",
    "        predictions.append((anime_id, pred.est))\n",
    "    predictions.sort(key=lambda x: x[1], reverse=True)\n",
    "\n",
    "    top_anime_ids = [x[0] for x in predictions[:num_recommendations]]\n",
    "    top_estimated_ratings = [x[1] for x in predictions[:num_recommendations]]\n",
    "\n",
    "    recommended_anime_details = df_anime[df_anime['anime_id'].isin(top_anime_ids)][['anime_id', 'name', 'genre', 'type', 'rating']].copy()\n",
    "\n",
    "    final_recommendations = []\n",
    "    for i, anime_id in enumerate(top_anime_ids):\n",
    "        anime_info = recommended_anime_details[recommended_anime_details['anime_id'] == anime_id].iloc[0]\n",
    "        final_recommendations.append({\n",
    "            'anime_id': anime_info['anime_id'],\n",
    "            'name': anime_info['name'],\n",
    "            'genre': anime_info['genre'],\n",
    "            'type': anime_info['type'],\n",
    "            'average_anime_rating': anime_info['rating'],\n",
    "            'predicted_rating_for_user': top_estimated_ratings[i]\n",
    "        })\n",
    "    return pd.DataFrame(final_recommendations)"
   ]
  },
  {
   "cell_type": "markdown",
   "id": "c95c095e",
   "metadata": {},
   "source": [
    "Contoh rekomendasi Collaborative Filtering untuk seorang user\n",
    "\n",
    "Cari user_id yang ada di dataset (misal user yang sudah memberi rating anime)\n",
    "\n",
    "Supaya pasti dapat user yang sudah punya rating, kita filter merged_df"
   ]
  },
  {
   "cell_type": "code",
   "execution_count": 30,
   "id": "b6459c03",
   "metadata": {},
   "outputs": [
    {
     "name": "stdout",
     "output_type": "stream",
     "text": [
      "\n",
      "Contoh Rekomendasi Collaborative Filtering untuk user_id: 64751:\n",
      "   anime_id                                               name  \\\n",
      "0       820                               Ginga Eiyuu Densetsu   \n",
      "1     32281                                     Kimi no Na wa.   \n",
      "2     30276                                      One Punch Man   \n",
      "3        19                                            Monster   \n",
      "4     32935  Haikyuu!!: Karasuno Koukou VS Shiratorizawa Ga...   \n",
      "5      9253                                        Steins;Gate   \n",
      "6       877                                               Nana   \n",
      "7     28977                                           Gintama°   \n",
      "8       338                                 Rose of Versailles   \n",
      "9      5114                   Fullmetal Alchemist: Brotherhood   \n",
      "\n",
      "                                               genre   type  \\\n",
      "0                     Drama, Military, Sci-Fi, Space    OVA   \n",
      "1               Drama, Romance, School, Supernatural  Movie   \n",
      "2  Action, Comedy, Parody, Sci-Fi, Seinen, Super ...     TV   \n",
      "3  Drama, Horror, Mystery, Police, Psychological,...     TV   \n",
      "4             Comedy, Drama, School, Shounen, Sports     TV   \n",
      "5                                   Sci-Fi, Thriller     TV   \n",
      "6  Comedy, Drama, Music, Romance, Shoujo, Slice o...     TV   \n",
      "7  Action, Comedy, Historical, Parody, Samurai, S...     TV   \n",
      "8      Adventure, Drama, Historical, Romance, Shoujo     TV   \n",
      "9  Action, Adventure, Drama, Fantasy, Magic, Mili...     TV   \n",
      "\n",
      "   average_anime_rating  predicted_rating_for_user  \n",
      "0                  9.11                   9.342805  \n",
      "1                  9.37                   9.186882  \n",
      "2                  8.82                   9.175675  \n",
      "3                  8.72                   9.159462  \n",
      "4                  9.15                   9.157884  \n",
      "5                  9.17                   9.150963  \n",
      "6                  8.55                   9.127949  \n",
      "7                  9.25                   9.127401  \n",
      "8                  8.40                   9.108024  \n",
      "9                  9.26                   9.078104  \n"
     ]
    }
   ],
   "source": [
    "users_with_ratings = merged_df['user_id'].unique()\n",
    "if len(users_with_ratings) > 0:\n",
    "    example_user_id = np.random.choice(users_with_ratings)\n",
    "else:\n",
    "    example_user_id = 1\n",
    "\n",
    "print(f\"\\nContoh Rekomendasi Collaborative Filtering untuk user_id: {example_user_id}:\")\n",
    "cf_recs = get_collaborative_recommendations(example_user_id)\n",
    "print(cf_recs)"
   ]
  },
  {
   "cell_type": "markdown",
   "id": "571bc57f",
   "metadata": {},
   "source": [
    "Untuk melihat anime apa saja yang sudah dirating user tersebut:"
   ]
  },
  {
   "cell_type": "code",
   "execution_count": 31,
   "id": "3059ae6a",
   "metadata": {},
   "outputs": [
    {
     "name": "stdout",
     "output_type": "stream",
     "text": [
      "\n",
      "Anime rated by user_id 64751:\n",
      "                    name  rating_user  \\\n",
      "5636833  No Game No Life            8   \n",
      "\n",
      "                                                     genre  \n",
      "5636833  Adventure, Comedy, Ecchi, Fantasy, Game, Super...  \n"
     ]
    }
   ],
   "source": [
    "print(f\"\\nAnime rated by user_id {example_user_id}:\")\n",
    "user_rated_anime = merged_df[merged_df['user_id'] == example_user_id][['name', 'rating_user', 'genre']].sort_values(by='rating_user', ascending=False)\n",
    "print(user_rated_anime.head(10))"
   ]
  },
  {
   "cell_type": "markdown",
   "id": "1f35f454",
   "metadata": {},
   "source": [
    "##  Evaluation"
   ]
  },
  {
   "cell_type": "markdown",
   "id": "ea3d37fe",
   "metadata": {},
   "source": [
    "Lakukan cross-validation 5-fold untuk mengukur performa model SVD"
   ]
  },
  {
   "cell_type": "code",
   "execution_count": 32,
   "id": "d432a1d9",
   "metadata": {},
   "outputs": [
    {
     "name": "stdout",
     "output_type": "stream",
     "text": [
      "Melakukan cross-validation 5-fold untuk model SVD...\n",
      "Evaluating RMSE, MAE of algorithm SVD on 5 split(s).\n",
      "\n",
      "                  Fold 1  Fold 2  Fold 3  Fold 4  Fold 5  Mean    Std     \n",
      "RMSE (testset)    1.1338  1.1332  1.1322  1.1336  1.1336  1.1333  0.0006  \n",
      "MAE (testset)     0.8450  0.8450  0.8436  0.8451  0.8451  0.8448  0.0006  \n",
      "Fit time          62.52   62.79   58.79   58.70   58.65   60.29   1.93    \n",
      "Test time         16.23   12.48   13.31   11.96   13.22   13.44   1.48    \n"
     ]
    }
   ],
   "source": [
    "print(\"Melakukan cross-validation 5-fold untuk model SVD...\")\n",
    "cross_validation_results = cross_validate(algo, data, measures=['RMSE', 'MAE'], cv=5, verbose=True)"
   ]
  },
  {
   "cell_type": "markdown",
   "id": "fe11e340",
   "metadata": {},
   "source": [
    "RMSE (Root Mean Squared Error): Mengukur besarnya rata-rata kesalahan.\n",
    "\n",
    "RMSE yang lebih rendah menunjukkan akurasi yang lebih baik dalam memprediksi peringkat."
   ]
  },
  {
   "cell_type": "code",
   "execution_count": 33,
   "id": "d697692e",
   "metadata": {},
   "outputs": [
    {
     "name": "stdout",
     "output_type": "stream",
     "text": [
      "Mean RMSE: 1.1333\n",
      "Standard Deviation of RMSE: 0.0006\n"
     ]
    }
   ],
   "source": [
    "print(f\"Mean RMSE: {cross_validation_results['test_rmse'].mean():.4f}\")\n",
    "print(f\"Standard Deviation of RMSE: {cross_validation_results['test_rmse'].std():.4f}\")"
   ]
  },
  {
   "cell_type": "markdown",
   "id": "cb949fcc",
   "metadata": {},
   "source": [
    "MAE (Mean Absolute Error): Mengukur rata-rata perbedaan absolut antara peringkat yang diprediksi dan aktual.\n",
    "\n",
    "Mirip dengan RMSE, MAE yang lebih rendah menunjukkan akurasi yang lebih tinggi."
   ]
  },
  {
   "cell_type": "code",
   "execution_count": 34,
   "id": "32edaa0b",
   "metadata": {},
   "outputs": [
    {
     "name": "stdout",
     "output_type": "stream",
     "text": [
      "Mean MAE: 0.8448\n",
      "Standard Deviation of MAE: 0.0006\n"
     ]
    }
   ],
   "source": [
    "print(f\"Mean MAE: {cross_validation_results['test_mae'].mean():.4f}\")\n",
    "print(f\"Standard Deviation of MAE: {cross_validation_results['test_mae'].std():.4f}\")"
   ]
  },
  {
   "cell_type": "markdown",
   "id": "7183b26c",
   "metadata": {},
   "source": [
    "Tampilkan kembali contoh untuk penilaian kualitatif"
   ]
  },
  {
   "cell_type": "code",
   "execution_count": 35,
   "id": "61b8594c",
   "metadata": {},
   "outputs": [
    {
     "name": "stdout",
     "output_type": "stream",
     "text": [
      "                                          name  \\\n",
      "778                         Death Note Rewrite   \n",
      "981                            Mousou Dairinin   \n",
      "144              Higurashi no Naku Koro ni Kai   \n",
      "1383             Higurashi no Naku Koro ni Rei   \n",
      "445                           Mirai Nikki (TV)   \n",
      "4164         Mirai Nikki (TV): Ura Mirai Nikki   \n",
      "334                  Higurashi no Naku Koro ni   \n",
      "38                                     Monster   \n",
      "5382                                 AD Police   \n",
      "2074  Higurashi no Naku Koro ni Kaku: Outbreak   \n",
      "\n",
      "                                                  genre     type  rating  \\\n",
      "778   Mystery, Police, Psychological, Supernatural, ...  Special    7.84   \n",
      "981   Drama, Mystery, Police, Psychological, Superna...       TV    7.74   \n",
      "144      Mystery, Psychological, Supernatural, Thriller       TV    8.41   \n",
      "1383  Comedy, Mystery, Psychological, Supernatural, ...      OVA    7.56   \n",
      "445   Action, Mystery, Psychological, Shounen, Super...       TV    8.07   \n",
      "4164  Action, Comedy, Mystery, Psychological, Shoune...  Special    6.79   \n",
      "334   Horror, Mystery, Psychological, Supernatural, ...       TV    8.17   \n",
      "38    Drama, Horror, Mystery, Police, Psychological,...       TV    8.72   \n",
      "5382  Adventure, Dementia, Mecha, Mystery, Police, P...      OVA    6.47   \n",
      "2074           Horror, Mystery, Psychological, Thriller      OVA    7.36   \n",
      "\n",
      "      similarity_score  \n",
      "778           1.000000  \n",
      "981           0.967703  \n",
      "144           0.879514  \n",
      "1383          0.861056  \n",
      "445           0.815429  \n",
      "4164          0.800654  \n",
      "334           0.794414  \n",
      "38            0.790869  \n",
      "5382          0.755023  \n",
      "2074          0.728881  \n",
      "\n",
      "Observation: The recommendations for 'Death Note' (a psychological thriller) tend to be other anime with 'Thriller' or 'Mystery' genres, which indicates good content similarity.\n",
      "\n",
      "--- Conclusion of Evaluation ---\n",
      "The SVD model for Collaborative Filtering shows a reasonable RMSE, indicating good predictive accuracy for user ratings.\n",
      "Content-based filtering provides recommendations based on clear genre similarity, which is intuitively logical.\n"
     ]
    }
   ],
   "source": [
    "content_recs_eval = get_content_recommendations('Death Note')\n",
    "if not content_recs_eval.empty:\n",
    "    print(content_recs_eval)\n",
    "    print(\"\\nObservation: The recommendations for 'Death Note' (a psychological thriller) tend to be other anime with 'Thriller' or 'Mystery' genres, which indicates good content similarity.\")\n",
    "\n",
    "print(\"\\n--- Conclusion of Evaluation ---\")\n",
    "print(\"The SVD model for Collaborative Filtering shows a reasonable RMSE, indicating good predictive accuracy for user ratings.\")\n",
    "print(\"Content-based filtering provides recommendations based on clear genre similarity, which is intuitively logical.\")"
   ]
  }
 ],
 "metadata": {
  "kernelspec": {
   "display_name": "Python 3",
   "language": "python",
   "name": "python3"
  },
  "language_info": {
   "codemirror_mode": {
    "name": "ipython",
    "version": 3
   },
   "file_extension": ".py",
   "mimetype": "text/x-python",
   "name": "python",
   "nbconvert_exporter": "python",
   "pygments_lexer": "ipython3",
   "version": "3.11.9"
  }
 },
 "nbformat": 4,
 "nbformat_minor": 5
}
